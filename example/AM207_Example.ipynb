{
 "cells": [
  {
   "cell_type": "code",
   "execution_count": 1,
   "metadata": {},
   "outputs": [],
   "source": [
    "import numpy as np\n",
    "import matplotlib.pyplot as plt\n",
    "%matplotlib inline\n",
    "\n",
    "import warnings\n",
    "warnings.filterwarnings(\"ignore\")"
   ]
  },
  {
   "cell_type": "code",
   "execution_count": 2,
   "metadata": {},
   "outputs": [
    {
     "name": "stderr",
     "output_type": "stream",
     "text": [
      "Using TensorFlow backend.\n"
     ]
    }
   ],
   "source": [
    "import keras \n",
    "from keras.models import Sequential\n",
    "from keras.layers import Dense"
   ]
  },
  {
   "cell_type": "markdown",
   "metadata": {},
   "source": [
    "## Data and Model"
   ]
  },
  {
   "cell_type": "code",
   "execution_count": 3,
   "metadata": {},
   "outputs": [],
   "source": [
    "data = np.load('data.npy')\n",
    "x, y = data[:, 0], data[:, 1]\n",
    "\n",
    "# def features(x):\n",
    "#     return np.hstack([x[:, None] / 2.0, (x[:, None] / 2.0) ** 2])\n",
    "\n",
    "# X_feature = features(x)"
   ]
  },
  {
   "cell_type": "code",
   "execution_count": 4,
   "metadata": {
    "scrolled": true
   },
   "outputs": [
    {
     "data": {
      "image/png": "[encoded data removed]",
      "text/plain": [
       "<Figure size 432x288 with 1 Axes>"
      ]
     },
     "metadata": {
      "needs_background": "light"
     },
     "output_type": "display_data"
    }
   ],
   "source": [
    "plt.scatter(x, y, alpha = 0.3)\n",
    "plt.xlabel('X')\n",
    "plt.ylabel('Y');"
   ]
  },
  {
   "cell_type": "code",
   "execution_count": 5,
   "metadata": {
    "scrolled": true
   },
   "outputs": [
    {
     "name": "stdout",
     "output_type": "stream",
     "text": [
      "WARNING:tensorflow:From /Users/susanaxu/anaconda3/lib/python3.7/site-packages/keras/backend/tensorflow_backend.py:74: The name tf.get_default_graph is deprecated. Please use tf.compat.v1.get_default_graph instead.\n",
      "\n",
      "WARNING:tensorflow:From /Users/susanaxu/anaconda3/lib/python3.7/site-packages/keras/backend/tensorflow_backend.py:517: The name tf.placeholder is deprecated. Please use tf.compat.v1.placeholder instead.\n",
      "\n",
      "WARNING:tensorflow:From /Users/susanaxu/anaconda3/lib/python3.7/site-packages/keras/backend/tensorflow_backend.py:4138: The name tf.random_uniform is deprecated. Please use tf.random.uniform instead.\n",
      "\n",
      "WARNING:tensorflow:From /Users/susanaxu/anaconda3/lib/python3.7/site-packages/keras/optimizers.py:790: The name tf.train.Optimizer is deprecated. Please use tf.compat.v1.train.Optimizer instead.\n",
      "\n",
      "WARNING:tensorflow:From /Users/susanaxu/anaconda3/lib/python3.7/site-packages/keras/backend/tensorflow_backend.py:986: The name tf.assign_add is deprecated. Please use tf.compat.v1.assign_add instead.\n",
      "\n",
      "WARNING:tensorflow:From /Users/susanaxu/anaconda3/lib/python3.7/site-packages/keras/backend/tensorflow_backend.py:973: The name tf.assign is deprecated. Please use tf.compat.v1.assign instead.\n",
      "\n",
      "Epoch 1/100\n",
      "400/400 [==============================] - 1s 2ms/step - loss: 0.3282\n",
      "Epoch 2/100\n",
      "400/400 [==============================] - 0s 71us/step - loss: 0.1740\n",
      "Epoch 3/100\n",
      "400/400 [==============================] - 0s 63us/step - loss: 0.1168\n",
      "Epoch 4/100\n",
      "400/400 [==============================] - 0s 79us/step - loss: 0.0873\n",
      "Epoch 5/100\n",
      "400/400 [==============================] - 0s 68us/step - loss: 0.0712\n",
      "Epoch 6/100\n",
      "400/400 [==============================] - 0s 54us/step - loss: 0.0591\n",
      "Epoch 7/100\n",
      "400/400 [==============================] - 0s 60us/step - loss: 0.0496\n",
      "Epoch 8/100\n",
      "400/400 [==============================] - 0s 66us/step - loss: 0.0417\n",
      "Epoch 9/100\n",
      "400/400 [==============================] - 0s 47us/step - loss: 0.0358\n",
      "Epoch 10/100\n",
      "400/400 [==============================] - 0s 53us/step - loss: 0.0307\n",
      "Epoch 11/100\n",
      "400/400 [==============================] - 0s 60us/step - loss: 0.0266\n",
      "Epoch 12/100\n",
      "400/400 [==============================] - 0s 46us/step - loss: 0.0230\n",
      "Epoch 13/100\n",
      "400/400 [==============================] - 0s 72us/step - loss: 0.0203\n",
      "Epoch 14/100\n",
      "400/400 [==============================] - 0s 91us/step - loss: 0.0182\n",
      "Epoch 15/100\n",
      "400/400 [==============================] - 0s 59us/step - loss: 0.0165\n",
      "Epoch 16/100\n",
      "400/400 [==============================] - 0s 54us/step - loss: 0.0152\n",
      "Epoch 17/100\n",
      "400/400 [==============================] - 0s 74us/step - loss: 0.0139\n",
      "Epoch 18/100\n",
      "400/400 [==============================] - 0s 60us/step - loss: 0.0129\n",
      "Epoch 19/100\n",
      "400/400 [==============================] - 0s 59us/step - loss: 0.0123\n",
      "Epoch 20/100\n",
      "400/400 [==============================] - 0s 59us/step - loss: 0.0117\n",
      "Epoch 21/100\n",
      "400/400 [==============================] - 0s 70us/step - loss: 0.0112\n",
      "Epoch 22/100\n",
      "400/400 [==============================] - 0s 75us/step - loss: 0.0107\n",
      "Epoch 23/100\n",
      "400/400 [==============================] - 0s 82us/step - loss: 0.0104\n",
      "Epoch 24/100\n",
      "400/400 [==============================] - 0s 64us/step - loss: 0.0102\n",
      "Epoch 25/100\n",
      "400/400 [==============================] - 0s 74us/step - loss: 0.0100\n",
      "Epoch 26/100\n",
      "400/400 [==============================] - 0s 59us/step - loss: 0.0102\n",
      "Epoch 27/100\n",
      "400/400 [==============================] - 0s 91us/step - loss: 0.0097\n",
      "Epoch 28/100\n",
      "400/400 [==============================] - 0s 44us/step - loss: 0.0096\n",
      "Epoch 29/100\n",
      "400/400 [==============================] - 0s 90us/step - loss: 0.0096\n",
      "Epoch 30/100\n",
      "400/400 [==============================] - 0s 82us/step - loss: 0.0094\n",
      "Epoch 31/100\n",
      "400/400 [==============================] - 0s 72us/step - loss: 0.0095\n",
      "Epoch 32/100\n",
      "400/400 [==============================] - 0s 57us/step - loss: 0.0094\n",
      "Epoch 33/100\n",
      "400/400 [==============================] - 0s 58us/step - loss: 0.0093\n",
      "Epoch 34/100\n",
      "400/400 [==============================] - 0s 53us/step - loss: 0.0092\n",
      "Epoch 35/100\n",
      "400/400 [==============================] - 0s 66us/step - loss: 0.0093\n",
      "Epoch 36/100\n",
      "400/400 [==============================] - 0s 69us/step - loss: 0.0092\n",
      "Epoch 37/100\n",
      "400/400 [==============================] - 0s 88us/step - loss: 0.0093\n",
      "Epoch 38/100\n",
      "400/400 [==============================] - 0s 77us/step - loss: 0.0092\n",
      "Epoch 39/100\n",
      "400/400 [==============================] - 0s 61us/step - loss: 0.0092\n",
      "Epoch 40/100\n",
      "400/400 [==============================] - 0s 84us/step - loss: 0.0092\n",
      "Epoch 41/100\n",
      "400/400 [==============================] - 0s 56us/step - loss: 0.0091\n",
      "Epoch 42/100\n",
      "400/400 [==============================] - 0s 55us/step - loss: 0.0092\n",
      "Epoch 43/100\n",
      "400/400 [==============================] - 0s 86us/step - loss: 0.0091\n",
      "Epoch 44/100\n",
      "400/400 [==============================] - 0s 69us/step - loss: 0.0091\n",
      "Epoch 45/100\n",
      "400/400 [==============================] - 0s 129us/step - loss: 0.0091\n",
      "Epoch 46/100\n",
      "400/400 [==============================] - 0s 54us/step - loss: 0.0091\n",
      "Epoch 47/100\n",
      "400/400 [==============================] - 0s 57us/step - loss: 0.0090\n",
      "Epoch 48/100\n",
      "400/400 [==============================] - 0s 71us/step - loss: 0.0092\n",
      "Epoch 49/100\n",
      "400/400 [==============================] - 0s 64us/step - loss: 0.0091\n",
      "Epoch 50/100\n",
      "400/400 [==============================] - 0s 74us/step - loss: 0.0090\n",
      "Epoch 51/100\n",
      "400/400 [==============================] - 0s 69us/step - loss: 0.0090\n",
      "Epoch 52/100\n",
      "400/400 [==============================] - 0s 46us/step - loss: 0.0091\n",
      "Epoch 53/100\n",
      "400/400 [==============================] - 0s 59us/step - loss: 0.0091\n",
      "Epoch 54/100\n",
      "400/400 [==============================] - 0s 118us/step - loss: 0.0090\n",
      "Epoch 55/100\n",
      "400/400 [==============================] - 0s 48us/step - loss: 0.0092\n",
      "Epoch 56/100\n",
      "400/400 [==============================] - 0s 90us/step - loss: 0.0090\n",
      "Epoch 57/100\n",
      "400/400 [==============================] - 0s 80us/step - loss: 0.0090\n",
      "Epoch 58/100\n",
      "400/400 [==============================] - 0s 64us/step - loss: 0.0090\n",
      "Epoch 59/100\n",
      "400/400 [==============================] - 0s 86us/step - loss: 0.0090\n",
      "Epoch 60/100\n",
      "400/400 [==============================] - 0s 68us/step - loss: 0.0090\n",
      "Epoch 61/100\n",
      "400/400 [==============================] - 0s 80us/step - loss: 0.0089\n",
      "Epoch 62/100\n",
      "400/400 [==============================] - 0s 81us/step - loss: 0.0089\n",
      "Epoch 63/100\n",
      "400/400 [==============================] - 0s 46us/step - loss: 0.0090\n",
      "Epoch 64/100\n",
      "400/400 [==============================] - 0s 78us/step - loss: 0.0090\n",
      "Epoch 65/100\n",
      "400/400 [==============================] - 0s 61us/step - loss: 0.0090\n",
      "Epoch 66/100\n",
      "400/400 [==============================] - 0s 75us/step - loss: 0.0089\n",
      "Epoch 67/100\n",
      "400/400 [==============================] - 0s 58us/step - loss: 0.0091\n",
      "Epoch 68/100\n",
      "400/400 [==============================] - 0s 105us/step - loss: 0.0090\n",
      "Epoch 69/100\n",
      "400/400 [==============================] - 0s 86us/step - loss: 0.0089\n",
      "Epoch 70/100\n",
      "400/400 [==============================] - 0s 52us/step - loss: 0.0089\n",
      "Epoch 71/100\n",
      "400/400 [==============================] - 0s 111us/step - loss: 0.0089\n",
      "Epoch 72/100\n",
      "400/400 [==============================] - 0s 66us/step - loss: 0.0089\n",
      "Epoch 73/100\n",
      "400/400 [==============================] - 0s 50us/step - loss: 0.0088\n",
      "Epoch 74/100\n",
      "400/400 [==============================] - 0s 106us/step - loss: 0.0089\n",
      "Epoch 75/100\n",
      "400/400 [==============================] - 0s 71us/step - loss: 0.0089\n",
      "Epoch 76/100\n",
      "400/400 [==============================] - 0s 80us/step - loss: 0.0089\n",
      "Epoch 77/100\n",
      "400/400 [==============================] - 0s 146us/step - loss: 0.0089\n",
      "Epoch 78/100\n",
      "400/400 [==============================] - 0s 146us/step - loss: 0.0088\n",
      "Epoch 79/100\n",
      "400/400 [==============================] - 0s 120us/step - loss: 0.0088\n",
      "Epoch 80/100\n",
      "400/400 [==============================] - 0s 81us/step - loss: 0.0089\n",
      "Epoch 81/100\n",
      "400/400 [==============================] - 0s 86us/step - loss: 0.0089\n",
      "Epoch 82/100\n",
      "400/400 [==============================] - 0s 77us/step - loss: 0.0088\n",
      "Epoch 83/100\n",
      "400/400 [==============================] - 0s 87us/step - loss: 0.0089\n",
      "Epoch 84/100\n"
     ]
    },
    {
     "name": "stdout",
     "output_type": "stream",
     "text": [
      "400/400 [==============================] - 0s 58us/step - loss: 0.0088\n",
      "Epoch 85/100\n",
      "400/400 [==============================] - 0s 60us/step - loss: 0.0088\n",
      "Epoch 86/100\n",
      "400/400 [==============================] - 0s 78us/step - loss: 0.0088\n",
      "Epoch 87/100\n",
      "400/400 [==============================] - 0s 69us/step - loss: 0.0088\n",
      "Epoch 88/100\n",
      "400/400 [==============================] - 0s 55us/step - loss: 0.0088\n",
      "Epoch 89/100\n",
      "400/400 [==============================] - 0s 50us/step - loss: 0.0091\n",
      "Epoch 90/100\n",
      "400/400 [==============================] - 0s 64us/step - loss: 0.0089\n",
      "Epoch 91/100\n",
      "400/400 [==============================] - 0s 73us/step - loss: 0.0088\n",
      "Epoch 92/100\n",
      "400/400 [==============================] - 0s 55us/step - loss: 0.0087\n",
      "Epoch 93/100\n",
      "400/400 [==============================] - 0s 61us/step - loss: 0.0088\n",
      "Epoch 94/100\n",
      "400/400 [==============================] - 0s 52us/step - loss: 0.0088\n",
      "Epoch 95/100\n",
      "400/400 [==============================] - 0s 78us/step - loss: 0.0088\n",
      "Epoch 96/100\n",
      "400/400 [==============================] - 0s 62us/step - loss: 0.0087\n",
      "Epoch 97/100\n",
      "400/400 [==============================] - 0s 60us/step - loss: 0.0086\n",
      "Epoch 98/100\n",
      "400/400 [==============================] - 0s 46us/step - loss: 0.0087\n",
      "Epoch 99/100\n",
      "400/400 [==============================] - 0s 54us/step - loss: 0.0087\n",
      "Epoch 100/100\n",
      "400/400 [==============================] - 0s 58us/step - loss: 0.0088\n"
     ]
    },
    {
     "data": {
      "text/plain": [
       "<keras.callbacks.History at 0x63b1f6e80>"
      ]
     },
     "execution_count": 5,
     "metadata": {},
     "output_type": "execute_result"
    }
   ],
   "source": [
    "NN = Sequential()\n",
    "\n",
    "# hidden layer\n",
    "NN.add(Dense(200, input_dim = 1, activation = 'relu', kernel_initializer = 'glorot_uniform'))\n",
    "NN.add(Dense(50, activation = 'relu'))\n",
    "NN.add(Dense(50, activation = 'relu'))\n",
    "NN.add(Dense(50, activation = 'relu'))\n",
    "# NN.add(Dense(5, activation = 'relu'))\n",
    "\n",
    "# output layer\n",
    "NN.add(Dense(1, activation='linear'))\n",
    "\n",
    "NN.compile(loss='mean_squared_error', optimizer='sgd')\n",
    "\n",
    "NN.fit(x, y, batch_size=64, epochs=100)"
   ]
  },
  {
   "cell_type": "code",
   "execution_count": 7,
   "metadata": {},
   "outputs": [],
   "source": [
    "# X_test = features(np.linspace(-10,10, 1000))\n",
    "X_test = np.linspace(-10,10, 1000)"
   ]
  },
  {
   "cell_type": "code",
   "execution_count": 8,
   "metadata": {},
   "outputs": [
    {
     "data": {
      "image/png": "[encoded data removed]",
      "text/plain": [
       "<Figure size 432x288 with 1 Axes>"
      ]
     },
     "metadata": {
      "needs_background": "light"
     },
     "output_type": "display_data"
    }
   ],
   "source": [
    "plt.scatter(x, y, alpha = 0.3)\n",
    "plt.xlabel('X')\n",
    "plt.ylabel('Y');\n",
    "# plt.plot(np.linspace(-10,10, 1000), NN.predict(X_test), color = 'red')\n",
    "plt.plot(X_test, NN.predict(X_test), color = 'red');"
   ]
  },
  {
   "cell_type": "code",
   "execution_count": 21,
   "metadata": {},
   "outputs": [
    {
     "name": "stdout",
     "output_type": "stream",
     "text": [
      "1 NN\n",
      "2 NN\n",
      "3 NN\n",
      "4 NN\n",
      "5 NN\n"
     ]
    }
   ],
   "source": [
    "y_test_list = []\n",
    "for i in range(5):\n",
    "    print('{0} NN'.format(i+1))\n",
    "    NN = Sequential()\n",
    "\n",
    "    # hidden layer\n",
    "    NN.add(Dense(40, input_dim = 1 , activation = 'relu', kernel_initializer = 'glorot_uniform'))\n",
    "    NN.add(Dense(30, activation = 'relu'))\n",
    "    NN.add(Dense(5, activation = 'relu'))\n",
    "\n",
    "    # output layer\n",
    "    NN.add(Dense(1, activation='linear'))\n",
    "\n",
    "    NN.compile(loss='mean_squared_error', optimizer='sgd')\n",
    "\n",
    "    NN.fit(x, y, batch_size=64, epochs=50, verbose = 0)\n",
    "    y_test_list.append(NN.predict(X_test))"
   ]
  },
  {
   "cell_type": "code",
   "execution_count": 25,
   "metadata": {},
   "outputs": [
    {
     "data": {
      "image/png": "[encoded data removed]",
      "text/plain": [
       "<Figure size 432x288 with 1 Axes>"
      ]
     },
     "metadata": {
      "needs_background": "light"
     },
     "output_type": "display_data"
    }
   ],
   "source": [
    "plt.scatter(x, y, alpha = 0.3)\n",
    "plt.xlabel('X')\n",
    "plt.ylabel('Y');\n",
    "for i in range(5):\n",
    "    plt.plot(X_test, y_test_list[i], color = 'red');"
   ]
  },
  {
   "cell_type": "markdown",
   "metadata": {},
   "source": [
    "## Bayesian Inference"
   ]
  },
  {
   "cell_type": "code",
   "execution_count": null,
   "metadata": {},
   "outputs": [],
   "source": []
  }
 ],
 "metadata": {
  "kernelspec": {
   "display_name": "Python 3",
   "language": "python",
   "name": "python3"
  },
  "language_info": {
   "codemirror_mode": {
    "name": "ipython",
    "version": 3
   },
   "file_extension": ".py",
   "mimetype": "text/x-python",
   "name": "python",
   "nbconvert_exporter": "python",
   "pygments_lexer": "ipython3",
   "version": "3.7.3"
  }
 },
 "nbformat": 4,
 "nbformat_minor": 2
}
