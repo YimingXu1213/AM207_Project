{
 "cells": [
  {
   "cell_type": "markdown",
   "metadata": {},
   "source": [
    "# Subspace Inference of Bayesian Deep Learning and Sensitivity Testing\n",
    "\n",
    "Yuting Kou, Yizhou Wang, Yiming Xu, Ziyi Zhou\n",
    "\n",
    "## 1. Introduction\n",
    "Our paper’s name is [Subspace Inference for Bayesian Deep Learning](https://arxiv.org/abs/1907.07504).  In this paper, it is trying to solve the following problem:  Bayesian inference has been a  useful  tool  to  perform  inference  with  neural  networks,  but  using  it  could be  challenging  when  the  neural  network  becomes  deeper  or  larger,  since  the parameter space becomes extremely high dimensional and the posterior distribution is highly zig-zag. ![可以放一个这个图](https://i.ibb.co/54NkMcT/zigzag.png).. **需不需要加点文字描述** Common methods can easily fall into local minima or take a long time to converge. How could we still use Bayesian methods to perform inference with those deep neural networks?  This problem is important in the modern world, because all the neural networks are built to be deeper and wider.  These models can have almost perfect predictions, but other than predictions,  we care about the inference on the parameters in them as well.  We want to know what the predictive distribution and uncertaintylook like.  This paper addresses this issue by an approach, in which the original parameter space is reduced into a low-dimensional subspace by some methods, and  then  we  can  perform  Bayesian  inference  over  the  parameters  within  the subspace.\n",
    "\n",
    "This paper lists some related work for which the main points are summarized here:\n",
    "1. The SWAG method can define a distribution over low-dimensional subspace, given the first principal components of the stochastic gradient descent (SGD) iterates.  It's useful in getting a Gaussian posterior over neural network weights.\n",
    "2. Bayesian  inference  could  be  applied  to  probabilistic  PCA  using  projected methods for latent variable models.\n",
    "3. Various ways have been proposed to perform variational inference in a low-dimensional subspace for Bayesian neural network.\n",
    "4. There  is  a  theoretical  guarantee  for  Bayesian  inference  in  the  setting  of constrained posteriors.  The constraints (e.g.  the subspace) can be chosen before or after performing unconstrained inference via SGD.\n",
    "5. Other approaches have tried to perform efficient inference by operating solely in data space, rather than in parameter space.\n",
    "\n",
    "The gap in literature that the paper is trying to fill is that no one previously has proposed the method to approximate Bayesian inference in low-dimensional subspace of the weight space for high-dimensional neural networks.  Therefore, this  method  is  the  authors'  main  contribution  and  they  named  it  `Subspace Inference` (SI)\n",
    "\n",
    "\n",
    "\n",
    "## 2. Technical content\n",
    "\n",
    "### High level\n",
    "Bayesian neural network often involves high dimensional problem over the parameter space. In this paper, they designed a Subspace Inference which conduct dimension reduction over parameter space, then form posterior inference and Bayesian model average. This Subspace Inference shows great performance in terms of accuracy and likelihood and thus implies the low-dimension subspaces contains a rich representations of full space.\n",
    "\n",
    "On the high level, their proposed Bayesian subspace inference algorithm contains three steps:  1) construct subspace, 2) posterior inference within subspace, 3)  form  a  Bayesian  model  average.   During  the  subspace  construction  stage, they  tried  three  subspaces  including  random  subspace,  the  subspace  spanned by the first few PCA components of the SGD trajectory, and curve subspace. They then propose using various methods including the MCMC methods suchas Hamiltonian Monte Carlo (HMC) or elliptical slice sampling (ESS) for the approximate inference procedures\n",
    "\n",
    "### Details"
   ]
  },
  {
   "cell_type": "markdown",
   "metadata": {},
   "source": [
    "#### Overview\n",
    "We perform inference in a K-dimensional subspace $\\mathcal{S}$ defined by \n",
    "\\begin{aligned}\n",
    "\\mathcal{S} &= \\{w|w = \\hat{w} + z_1v_1 + \\ldots + z_Kv_K\\} \\\\\n",
    "&= \\{w|w = \\hat{w} + Pz\\}.\n",
    "\\end{aligned}\n",
    "With a fixed $\\hat{w}$ and projection matrix $P$, over which we perform inference, the free parameters of the model are now simply $z\\in\\mathbb{R}^K$. The new model thus has the likelihood function $$p(\\mathcal{D}|z) = p_\\mathcal{M}(\\mathcal{D}|w = \\hat{w} + Pz).$$ We can then perform Bayesian model averaging on new test data points $\\mathcal{D}^*$, using the posterior over the parameters in the subspace:\n",
    "\\begin{aligned}\n",
    "p(\\mathcal{D}^*|\\mathcal{D}) &= \\int p_\\mathcal{M}(\\mathcal{D}^*|\\tilde{w} = \\hat{w} + Pz)p(z|\\mathcal{D})\\text{d}z \\\\\n",
    "&\\approx \\frac{1}{J}\\sum_{j=1}^Jp_\\mathcal{M}(\\mathcal{D}^*|\\tilde{w} = \\hat{w}+P\\tilde{z}_j),\\quad \\tilde{z}_j \\sim p(z|\\mathcal{D}).\n",
    "\\end{aligned}"
   ]
  },
  {
   "cell_type": "markdown",
   "metadata": {},
   "source": [
    "#### Subspace Construction\n",
    "In this section we will show various ways to construct subspace $\\mathcal{S}$.\n",
    "\n",
    "**1. Random Subspaces**\n",
    "\n",
    "The basis $P$ is constructed by ranomly drawing $K$ vectors $v_1, \\ldots, v_K \\sim \\mathcal{N}(0, I_p)$ in th weight space. We then rescale them to have norm 1. The shift vector is generated using the weights of a network pre-trained with stochastic weight averaging (SWA): $\\hat{w} = w_{\\text{SWA}}$. In particular, we run SGD with a high constant learning rate from a pre-trained solution, and form the average $w_{\\text{SWA}} = \\frac{1}{T}\\sum_i w_i$ from the SGD iterates $w_i$."
   ]
  },
  {
   "cell_type": "markdown",
   "metadata": {},
   "source": [
    "**2. PCA of the SGD Trajectory**"
   ]
  },
  {
   "cell_type": "markdown",
   "metadata": {},
   "source": [
    "**3. Curve Subspaces**\n",
    "\n",
    "In this method, we find paths of near-constant low loss in the weight space between converged SGD solutions starting from different random initializations. Let $w_0, w_1$ be two sets of weights corresponding to the same neural network. Moreover, let $\\phi_\\theta: [0,1] \\rightarrow \\mathbb{R}^d$ be a continuous piecewise smooth parametric curve, with parameters $\\theta$, such that $\\phi_\\theta(0) = w_0, \\phi_\\theta(1) = w_1$. To find a path of high accuracy between $w_0, w_1$, we propose to find parameters $\\theta$ that minimize the expectation over a uniform distribution on the curve, $\\hat{l}(\\theta)$:\n",
    "\\begin{aligned}\n",
    "\\hat{l}(\\theta) &= \\frac{\\int \\mathcal{L}(\\phi_\\theta)\\text{d}\\phi_\\theta}{\\int\\text{d}\\phi_\\theta} = \\frac{\\int_0^1\\mathcal{L}(\\phi_\\theta(t))\\|\\phi_\\theta^{'}(t)\\|\\text{d}t}{\\int_0^1 \\|\\phi_\\theta^{'}(t)\\|\\text{d}t} \\\\\n",
    "&= \\int_0^1 \\mathcal{L}(\\phi_\\theta(t))q_\\theta(t)\\text{d}t = \\mathbb{E}_{t\\sim q_\\theta(t)}\\left[\\mathcal{L}(\\phi_\\theta(t))\\right],\n",
    "\\end{aligned}\n",
    "where the distribution $q_\\theta(t)$ on $t\\in[0, 1]$ is defined as $q_\\theta(t) := \\|\\phi_\\theta^{'}(t)\\|\\cdot\\left(\\int_0^1 \\|\\phi_\\theta^{'}(t)\\|\\text{d}t\\right)^{-1}.$ Note that stochastic gradients of $\\theta$ are generally intractable since $q_\\theta(t)$ depends on $\\theta$. Therefore we will use a more computationally tractable loss:\n",
    "$$\n",
    "l(\\theta) = \\int_0^1 \\mathcal{L}(\\phi_\\theta(t))\\text{d}t = \\mathbb{E}_{t\\sim U(0,1)}\\mathcal{L}(\\phi_\\theta(t)).\n",
    "$$\n",
    "To minimize $l(\\theta)$, at each iteration we sample $\\tilde{t}$ from the unifrom distribution $U(0,1)$ and make a gradient step for $\\theta$ with respect to the loss $\\mathcal{L}(\\phi_\\theta(\\tilde{t}))$. This way we can get unbiased estimates of the gradient of $l(\\theta)$:\n",
    "$$\n",
    "\\nabla_\\theta\\mathcal{L}(\\phi_\\theta(\\tilde{t})) = \\mathbb{E}_{t\\sim U(0,1)} \\nabla_\\theta \\mathcal{L}(\\phi_\\theta(t)) = \\nabla_\\theta \\mathbb{E}_{t\\sim U(0,1)} \\mathcal{L}(\\phi_\\theta(t)) = \\nabla_\\theta l(\\theta).\n",
    "$$\n",
    "Then we can perform gradient descent on $\\theta$ to obtain the optimal curve.\n",
    "\n",
    "\n",
    "In this work we employ the **Polygonal chain**. The trained weights $w_0$ and $w_1$ serve as the endpoints of the chain and the bends of the chain are the parameters $\\theta$ of the curve parametrization. We only consider the simplest case of a chain with one bend $\\theta$. Then\n",
    "$$\n",
    "\\phi_\\theta = \\begin{cases} 2(t\\theta + (0.5-t)w_0), & 0 \\leq t \\leq 0.5 \\\\\n",
    "2((t-0.5)w_1 + (1-t)\\theta), & 0.5 < t \\leq 1. \\end{cases}\n",
    "$$"
   ]
  },
  {
   "cell_type": "code",
   "execution_count": null,
   "metadata": {},
   "outputs": [],
   "source": []
  },
  {
   "cell_type": "markdown",
   "metadata": {},
   "source": [
    "### Experiments\n",
    "\n",
    "They then compare the subspace inference methods on UCI regression tasks to a variety of methods for approximate Bayesian inference with neural networks. This time the comparison is done quantitatively and they compute Gaussian test likelihood as the metric. They show that subspace inference achieves as good or better test log-likelihoods compared to SGD and SWAG on the original parameter space.\n",
    "\n",
    "\n",
    "Next, they test the proposed method on state-of-the-art convolutional networks on CIFAR datasets. They report the accuracy and negative log-likelihood for each of the subspaces. Going from random, to PCA, to curve subspaces provides progressively better results. It's also shown that subspace inference is competitive with SWAG and consistently outperforms most of the other baselines, including MC-dropout.\n",
    "\n"
   ]
  },
  {
   "cell_type": "markdown",
   "metadata": {},
   "source": [
    "### Evaluation\n",
    "The authors of the paper evaluate subspace inference by combining the three subspaces with different approximate posterior inference methods.  They first compare the performance of each combination on their data and show the comparison visually by drawing the predictive distribution.  From the visualization plots on their data, they find that all the inference methods would work with the random and PCA subspace, but since the curve subspace has a more complex shaped posterior, variational methods do not produce reasonable fits.  The plots also show that the random subspace does not allow growing uncertainty when farther away from the data,  whereas the curve  subspace is the best to adapt uncertainty.\n",
    "\n",
    "\n",
    "They essentially want to prove subspace inference can do just as well as performing inference in the original parameter space, or even better, so they visualize the predictive distributions for simple variational inference applied in the original parameter space. From the visualization, they see the SWAG's predictive distribution is similar to the PCA subspace's one. However, variational inference tends to underfit data, and Gaussian process (GP) with an RBF kernel becomes underconfident when farther away from the neighborhood of data, meaning that uncertainty quickly blows up. It's shown in this procedure that subspace inference might show even better results than original-space inference.\n",
    "\n",
    "\n",
    "It's interesting to see that subspaces can be chosen to contain a diverse variety of representations, corresponding to different high quality predictions. It's also surprising to see that subspace inference can outperform inference in original parameter space sometimes. This work is definitely technically sound as it provides an easier yet promising way for inference with neural networks. The proposed method is practical to use on real data, as people using it only need to train a neural network, find the lower-dimension subspace, perform a much easier inference in the subspace, and convert back to the original parameter space. The experimental section contains enough evidence to support the claims. "
   ]
  },
  {
   "cell_type": "markdown",
   "metadata": {},
   "source": [
    "## 3. Our Extension: Sensitivity Testing"
   ]
  },
  {
   "cell_type": "markdown",
   "metadata": {},
   "source": [
    "\n",
    "Now, we are going to follow the guidance of this paper to conduct our own experiments, to test whether the subspace inference method can be generalized onto a smaller dataset and various hypotheses that are related to the network structure and subspace construction. In our project, we are interested in the stability of this Subspace Inference framework. More specifically, we test its sensitivity from two aspects:\n",
    "1. How does subspace method improve the Bayesian deep neural network in terms of efficiency and uncertainty estimation?\n",
    "2. Does it display similar performance over deep and wide neural network? \n",
    "3. Does it sensitive to the initial value to start with?\n",
    "\n",
    "We also expand PCA subspace with different \"SWA\" methods: instead of take every T steps of the weights, we choose to take snapshot of every local minima of the weights. "
   ]
  },
  {
   "cell_type": "markdown",
   "metadata": {},
   "source": [
    "## 4. Experiments\n",
    "### Code structure\n",
    "\n",
    "Following is our code structure: ![code structure](https://i.ibb.co/ggmrRfY/2.png) We use the unify structure of `model`, `subspace` and `inference` class, and enable the same API usage. \n",
    "\n",
    "### Toy example \n",
    "\n"
   ]
  },
  {
   "cell_type": "code",
   "execution_count": 1,
   "metadata": {},
   "outputs": [],
   "source": [
    "import matplotlib.pyplot as plt\n",
    "from autograd import numpy as np\n",
    "import time\n",
    "from Inference import Inference\n",
    "from Subspace import Subspace\n",
    "from model import Model\n",
    "import CurveSubspace as curve\n",
    "import torch\n",
    "import torch.nn as nn\n",
    "import torch.nn.functional as F\n",
    "from torch.utils.data import DataLoader, TensorDataset\n",
    "import torch.optim as optim\n",
    "from mpl_toolkits.mplot3d import Axes3D\n",
    "from util import hidecode\n",
    "# hidecode()            % --------- remember to remove comments after finishing all the code. This function can simplify the code"
   ]
  },
  {
   "cell_type": "code",
   "execution_count": 2,
   "metadata": {
    "scrolled": true
   },
   "outputs": [
    {
     "name": "stdout",
     "output_type": "stream",
     "text": [
      "Iteration 0 lower bound 65.1166805377315; gradient mag: 164.73210946091575\n",
      "Iteration 100 lower bound 52.86436046756695; gradient mag: 56.95458639088457\n",
      "Iteration 200 lower bound 49.42633385370295; gradient mag: 28.31627548203755\n",
      "Iteration 300 lower bound 47.73326189562314; gradient mag: 18.311751879565836\n",
      "Iteration 400 lower bound 46.647745693540806; gradient mag: 13.47755254054697\n",
      "Iteration 500 lower bound 45.88691542805831; gradient mag: 10.503599898310592\n",
      "Iteration 600 lower bound 45.25067576634; gradient mag: 8.654932255566825\n",
      "Iteration 700 lower bound 30.562858257343013; gradient mag: 24.192575322800902\n",
      "Iteration 800 lower bound 26.97792508592485; gradient mag: 20.354176994190937\n",
      "Iteration 900 lower bound 24.278363637665734; gradient mag: 18.77912591689822\n",
      "Iteration 1000 lower bound 22.029867169404948; gradient mag: 17.427416991221943\n",
      "Iteration 1100 lower bound 20.10610040886032; gradient mag: 16.21045518866593\n",
      "Iteration 1200 lower bound 18.434367471681025; gradient mag: 15.092044558814077\n",
      "Iteration 1300 lower bound 16.967826824623163; gradient mag: 14.051620576729908\n",
      "Iteration 1400 lower bound 15.673763205688546; gradient mag: 13.076506887891881\n",
      "Iteration 1500 lower bound 14.527850196693981; gradient mag: 12.158583034329935\n",
      "Iteration 1600 lower bound 13.511041180892443; gradient mag: 11.292691333772902\n",
      "Iteration 1700 lower bound 12.60773762799294; gradient mag: 10.475901826346682\n",
      "Iteration 1800 lower bound 11.804614404003857; gradient mag: 9.707342852428733\n",
      "Iteration 1900 lower bound 11.08977327305976; gradient mag: 8.988599356616403\n",
      "Iteration 2000 lower bound 10.452003162028152; gradient mag: 8.32495407522392\n",
      "Iteration 2100 lower bound 9.87992684520345; gradient mag: 7.728107510229668\n",
      "Iteration 2200 lower bound 9.360728932888753; gradient mag: 7.221146412450927\n",
      "Iteration 2300 lower bound 8.878118698993092; gradient mag: 6.843182251011429\n",
      "Iteration 2400 lower bound 8.410371873546007; gradient mag: 6.627021939587407\n",
      "Iteration 2500 lower bound 7.937214402172414; gradient mag: 6.461888287390538\n",
      "Iteration 2600 lower bound 7.471807925987624; gradient mag: 6.054967192028709\n",
      "Iteration 2700 lower bound 7.048560738747637; gradient mag: 5.623261826592471\n",
      "Iteration 2800 lower bound 6.657649714610486; gradient mag: 5.301596015489049\n",
      "Iteration 2900 lower bound 6.286937924356821; gradient mag: 5.005817266509643\n",
      "Iteration 3000 lower bound 5.932348941430826; gradient mag: 4.738230196194087\n",
      "Iteration 3100 lower bound 5.591133620620948; gradient mag: 4.496972816298515\n",
      "Iteration 3200 lower bound 5.26127545540811; gradient mag: 4.278187646372165\n",
      "Iteration 3300 lower bound 4.94145795934148; gradient mag: 4.078179065269133\n",
      "Iteration 3400 lower bound 4.6310060561160205; gradient mag: 3.893374295011214\n",
      "Iteration 3500 lower bound 4.329797769584354; gradient mag: 3.720413244585381\n",
      "Iteration 3600 lower bound 4.038157311705764; gradient mag: 3.5562692067094743\n",
      "Iteration 3700 lower bound 3.756740063917853; gradient mag: 3.3983369913380335\n",
      "Iteration 3800 lower bound 3.4864181903710874; gradient mag: 3.244478137088563\n",
      "Iteration 3900 lower bound 3.228173818091557; gradient mag: 3.0930278431838505\n",
      "Iteration 4000 lower bound 2.9830049840819997; gradient mag: 2.9427729212293756\n",
      "Iteration 4100 lower bound 2.7518476624500345; gradient mag: 2.7929113696219305\n",
      "Iteration 4200 lower bound 2.535515098891551; gradient mag: 2.6430034941530747\n",
      "Iteration 4300 lower bound 2.334653699118807; gradient mag: 2.492922187032353\n",
      "Iteration 4400 lower bound 2.1497133142884643; gradient mag: 2.3428066637339153\n",
      "Iteration 4500 lower bound 1.9809292604652153; gradient mag: 2.193020647459891\n",
      "Iteration 4600 lower bound 1.8283137632422373; gradient mag: 2.0441136627500596\n",
      "Iteration 4700 lower bound 1.691655364964971; gradient mag: 1.8967832576590373\n",
      "Iteration 4800 lower bound 1.570525681259662; gradient mag: 1.7518364695730453\n",
      "Iteration 4900 lower bound 1.4642933738374684; gradient mag: 1.610150058676236\n"
     ]
    }
   ],
   "source": [
    "data = np.genfromtxt(r'../example/hw7_data.csv', delimiter=',')[1:]\n",
    "x, y = data[:, 0], data[:, 1]\n",
    "\n",
    "alpha = 1\n",
    "c = 0\n",
    "h = lambda x: np.exp(-alpha * (x - c)**2)\n",
    "\n",
    "###neural network model design choices\n",
    "width = 5\n",
    "hidden_layers = 1\n",
    "input_dim = 1\n",
    "output_dim = 1\n",
    "\n",
    "architecture = {'width': width,\n",
    "               'hidden_layers': hidden_layers,\n",
    "               'input_dim': input_dim,\n",
    "               'output_dim': output_dim,\n",
    "               'activation_fn_type': 'rbf',\n",
    "               'activation_fn_params': 'c=0, alpha=1',\n",
    "               'activation_fn': h}\n",
    "\n",
    "# set random state to make the experiments replicable\n",
    "rand_state = 0\n",
    "random = np.random.RandomState(rand_state)\n",
    "\n",
    "# create a model and train the model\n",
    "my_nn = Model.create(submodel_type=\"Feedforward\", architecture=architecture, Sigma_Y=0.25)\n",
    "\n",
    "# use MSE result as params_init\n",
    "params = {'step_size':1e-3, \n",
    "          'max_iteration':5000, \n",
    "          'random_restarts':1}\n",
    "\n",
    "# fit my neural network to minimize MSE on the given data\n",
    "my_nn.fit(x_train=x.reshape((1, -1)), y_train=y.reshape((1, -1)), params=params)"
   ]
  },
  {
   "cell_type": "code",
   "execution_count": 3,
   "metadata": {
    "scrolled": false
   },
   "outputs": [
    {
     "data": {
      "image/png": "[encoded data removed]",
      "text/plain": [
       "<Figure size 432x288 with 1 Axes>"
      ]
     },
     "metadata": {
      "needs_background": "light"
     },
     "output_type": "display_data"
    }
   ],
   "source": [
    "x_test = np.linspace(-10, 10, 1000).reshape(1,-1)\n",
    "y_test = my_nn.forward(x_test, use_subweights = False, weights = my_nn.weights)[0]\n",
    "plt.scatter(x, y, alpha = 0.3)\n",
    "plt.plot(x_test[0], y_test[0], color = 'red')\n",
    "plt.xlabel('X')\n",
    "plt.ylabel('Y');"
   ]
  },
  {
   "cell_type": "markdown",
   "metadata": {},
   "source": [
    "**Random Subspace.**"
   ]
  },
  {
   "cell_type": "code",
   "execution_count": 5,
   "metadata": {},
   "outputs": [
    {
     "name": "stdout",
     "output_type": "stream",
     "text": [
      "It costs 6.71 sec to calculate Random Subspace\n"
     ]
    }
   ],
   "source": [
    "begin=time.time()\n",
    "my_subspace_rand = Subspace.create(subspace_type=\"random\", model=my_nn, n_subspace=2)\n",
    "my_subspace_rand.collect_vector(X=x, y=y)\n",
    "end=time.time()\n",
    "print('It costs {:.2f} sec to calculate Random Subspace'.format(end-begin) )"
   ]
  },
  {
   "cell_type": "markdown",
   "metadata": {},
   "source": [
    "**PCA Subspace.**"
   ]
  },
  {
   "cell_type": "code",
   "execution_count": 6,
   "metadata": {},
   "outputs": [
    {
     "name": "stdout",
     "output_type": "stream",
     "text": [
      "It costs 7.13 sec to calculate PCA Subspace\n"
     ]
    }
   ],
   "source": [
    "begin=time.time()\n",
    "my_subspace_pca = Subspace.create(subspace_type=\"pca\", model=my_nn, n_subspace=2)\n",
    "my_subspace_pca.collect_vector(X=x, y=y)\n",
    "end=time.time()\n",
    "print('It costs {:.2f} sec to calculate PCA Subspace'.format(end-begin) )"
   ]
  },
  {
   "cell_type": "markdown",
   "metadata": {},
   "source": [
    "**Curve Subspace.**"
   ]
  },
  {
   "cell_type": "code",
   "execution_count": 7,
   "metadata": {
    "scrolled": true
   },
   "outputs": [
    {
     "name": "stdout",
     "output_type": "stream",
     "text": [
      "[epoch 1] loss: 0.234\n",
      "[epoch 21] loss: 0.229\n",
      "[epoch 41] loss: 0.228\n",
      "[epoch 61] loss: 0.226\n",
      "[epoch 81] loss: 0.225\n",
      "[epoch 101] loss: 0.224\n",
      "[epoch 121] loss: 0.217\n",
      "[epoch 141] loss: 0.222\n",
      "[epoch 161] loss: 0.219\n",
      "[epoch 181] loss: 0.219\n"
     ]
    }
   ],
   "source": [
    "def CurveNetGen(w0, w1):\n",
    "    return curve.CurveNet(1, width, hidden_layers, w0, w1)\n",
    "\n",
    "# for training the mid-points\n",
    "params_curve = {'sample_size': 500}\n",
    "net = curve.BaseNet(1, width, hidden_layers)\n",
    "\n",
    "optimizer = optim.Adam(net.parameters(), lr = 0.001)\n",
    "criterion = nn.MSELoss()\n",
    "\n",
    "dataset = TensorDataset(torch.Tensor(x.reshape(-1, 1)), torch.Tensor(y))\n",
    "loader = DataLoader(dataset, batch_size=64, shuffle = True)\n",
    "\n",
    "# for training the two endpoints\n",
    "#params_base = {'epochs': 1000}\n",
    "params_base = params\n",
    "begin=time.time()\n",
    "my_subspace_curve = Subspace.create(subspace_type=\"curve\", net = net, params_base = params_base, nn = my_nn, \n",
    "                              X = x, y = y, loader = loader, criterion = criterion, \n",
    "                              curve_net_gen = CurveNetGen, params_curve = params_curve)\n",
    "my_subspace_curve.collect_vector(epochs = 200, callback = 20, restart = False)\n",
    "end=time.time()"
   ]
  },
  {
   "cell_type": "code",
   "execution_count": 8,
   "metadata": {
    "scrolled": true
   },
   "outputs": [
    {
     "name": "stdout",
     "output_type": "stream",
     "text": [
      "It costs 122.12 sec to calculate Curve Subspace\n"
     ]
    }
   ],
   "source": [
    "print('It costs {:.2f} sec to calculate Curve Subspace'.format(end-begin) )"
   ]
  },
  {
   "cell_type": "markdown",
   "metadata": {},
   "source": [
    "Curve subspace is 20 times more than PCA and random subspace."
   ]
  },
  {
   "cell_type": "markdown",
   "metadata": {},
   "source": [
    "**todo:**\n",
    "PCA+RANDOM+(curve) 和HMC+BBB的结果放过来。可以有表格的方式。"
   ]
  },
  {
   "cell_type": "markdown",
   "metadata": {},
   "source": [
    "### Extension"
   ]
  },
  {
   "cell_type": "markdown",
   "metadata": {},
   "source": [
    "#### Subspace Improves a lot\n",
    "- yiming's Raw dimension performance v.s. subspace.\n",
    "\n",
    "#### Deep and Wide difference\n",
    "- Queena results\n",
    "\n",
    "#### Different initialization\n",
    "start with non_train.weights vs not."
   ]
  },
  {
   "cell_type": "markdown",
   "metadata": {},
   "source": [
    "#### PCA extension\n",
    "先按你这个做法来。不用做新的了。"
   ]
  },
  {
   "cell_type": "markdown",
   "metadata": {},
   "source": [
    "## 5. Future Work\n",
    "\n",
    "随便扯几句"
   ]
  },
  {
   "cell_type": "code",
   "execution_count": null,
   "metadata": {},
   "outputs": [],
   "source": []
  }
 ],
 "metadata": {
  "kernelspec": {
   "display_name": "Python 3",
   "language": "python",
   "name": "python3"
  },
  "language_info": {
   "codemirror_mode": {
    "name": "ipython",
    "version": 3
   },
   "file_extension": ".py",
   "mimetype": "text/x-python",
   "name": "python",
   "nbconvert_exporter": "python",
   "pygments_lexer": "ipython3",
   "version": "3.7.3"
  }
 },
 "nbformat": 4,
 "nbformat_minor": 2
}
