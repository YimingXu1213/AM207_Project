{
 "cells": [
  {
   "cell_type": "markdown",
   "metadata": {},
   "source": [
    "# Name\n",
    "\n",
    "Yuting Kou, Yizhou Wang, Yiming Xu, Ziyi Zhou\n",
    "\n",
    "## Content\n",
    "\n",
    "## Method"
   ]
  },
  {
   "cell_type": "markdown",
   "metadata": {},
   "source": [
    "## Toy Example"
   ]
  },
  {
   "cell_type": "code",
   "execution_count": 1,
   "metadata": {},
   "outputs": [],
   "source": [
    "import matplotlib.pyplot as plt\n",
    "from autograd import numpy as np\n",
    "\n",
    "from src.Inference import Inference\n",
    "from src.Subspace import Subspace\n",
    "from src.model import Model\n",
    "from src.util import hidecode\n",
    "# hidecode()            % --------- remember to remove comments after finishing all the code. This function can simplify the code"
   ]
  },
  {
   "cell_type": "code",
   "execution_count": 2,
   "metadata": {
    "scrolled": true
   },
   "outputs": [],
   "source": [
    "# data = np.load(r'.\\example\\data.npy')\n",
    "data = np.genfromtxt(r'.\\example\\hw7_data.csv', delimiter=',')[1:]\n",
    "x, y = data[:, 0], data[:, 1]\n",
    "\n",
    "alpha = 1\n",
    "c = 0\n",
    "h = lambda x: np.exp(-alpha * (x - c)**2)\n",
    "\n",
    "###neural network model design choices\n",
    "width = 5\n",
    "hidden_layers = 1\n",
    "input_dim = 1\n",
    "output_dim = 1\n",
    "\n",
    "architecture = {'width': width,\n",
    "               'hidden_layers': hidden_layers,\n",
    "               'input_dim': input_dim,\n",
    "               'output_dim': output_dim,\n",
    "               'activation_fn_type': 'rbf',\n",
    "               'activation_fn_params': 'c=0, alpha=1',\n",
    "               'activation_fn': h}\n",
    "\n",
    "# set random state to make the experiments replicable\n",
    "rand_state = 0\n",
    "random = np.random.RandomState(rand_state)\n",
    "\n",
    "# create a model and train the model\n",
    "my_nn = Model.create(submodel_type=\"Feedforward\", architecture=architecture)\n",
    "\n",
    "# use MSE result as params_init\n",
    "params = {'step_size':1e-3, \n",
    "          'max_iteration':10000, \n",
    "          'random_restarts':1}\n",
    "\n",
    "# fit my neural network to minimize MSE on the given data\n",
    "# my_nn.fit(x_train=x.reshape((1, -1)), y_train=y.reshape((1, -1)), params=params)"
   ]
  },
  {
   "cell_type": "code",
   "execution_count": 3,
   "metadata": {},
   "outputs": [
    {
     "data": {
      "text/plain": [
       "Text(0, 0.5, 'Y')"
      ]
     },
     "execution_count": 3,
     "metadata": {},
     "output_type": "execute_result"
    },
    {
     "data": {
      "image/png": "[encoded data removed]",
      "text/plain": [
       "<Figure size 432x288 with 1 Axes>"
      ]
     },
     "metadata": {
      "needs_background": "light"
     },
     "output_type": "display_data"
    }
   ],
   "source": [
    "x_test = np.linspace(-10, 10, 1000).reshape(1,-1)\n",
    "y_test = my_nn.forward(x_test, use_subweights = False, weights = my_nn.weights)[0]\n",
    "plt.scatter(x, y, alpha = 0.3)\n",
    "plt.plot(x_test[0], y_test[0], color = 'red')\n",
    "plt.xlabel('X')\n",
    "plt.ylabel('Y')\n"
   ]
  },
  {
   "cell_type": "code",
   "execution_count": 4,
   "metadata": {},
   "outputs": [],
   "source": [
    "my_nn = Model.create(submodel_type=\"Feedforward\", architecture=architecture,Sigma_Y=np.array([[2]]))\n",
    "my_subspace = Subspace.create(subspace_type=\"random\", model=my_nn, n_subspace=2)\n",
    "my_subspace.collect_vector(X=x, y=y)\n",
    "P, w = my_subspace.get_space()"
   ]
  },
  {
   "cell_type": "code",
   "execution_count": 24,
   "metadata": {},
   "outputs": [],
   "source": [
    "hmc_tune_params={'step_size':0.01,\n",
    "                                'leapfrog_steps': 10,\n",
    "                                'total_samples': 10000,\n",
    "                                'burn_in': 0.2,\n",
    "                                'warm_start': False,\n",
    "                                'thinning_factor': 2,\n",
    "                                'mom_std': 1,\n",
    "                                'diagnostic_mode': False}"
   ]
  },
  {
   "cell_type": "code",
   "execution_count": null,
   "metadata": {},
   "outputs": [],
   "source": []
  },
  {
   "cell_type": "code",
   "execution_count": 25,
   "metadata": {},
   "outputs": [],
   "source": [
    "my_inference = Inference.create(inference_type=\"HMC\", model=my_nn, P=np.eye(P.shape[0]), w_hat=np.zeros_like(w),  tune_params=hmc_tune_params,\n",
    "                               Sigma_Z=5)"
   ]
  },
  {
   "cell_type": "code",
   "execution_count": 26,
   "metadata": {
    "scrolled": true
   },
   "outputs": [],
   "source": [
    "# get initial weights (in subspace dimension!!)\n",
    "position_init = my_nn.get_z_from_W(weights=my_nn.weights, P=my_inference.P, w_hat=my_inference.w_hat)"
   ]
  },
  {
   "cell_type": "code",
   "execution_count": null,
   "metadata": {
    "scrolled": true
   },
   "outputs": [
    {
     "name": "stdout",
     "output_type": "stream",
     "text": [
      "HMC 200: accept rate of 100.0 with step size 0.01\n",
      "HMC 400: accept rate of 100.0 with step size 0.0105\n",
      "HMC 600: accept rate of 100.0 with step size 0.011025000000000002\n",
      "HMC 800: accept rate of 99.875 with step size 0.011576250000000003\n",
      "HMC 1000: accept rate of 99.9 with step size 0.012155062500000004\n",
      "HMC 1200: accept rate of 99.83333333333333 with step size 0.012762815625000005\n",
      "HMC 1400: accept rate of 99.85714285714286 with step size 0.013400956406250006\n",
      "HMC 1600: accept rate of 99.875 with step size 0.014071004226562506\n",
      "HMC 1800: accept rate of 99.8888888888889 with step size 0.014774554437890632\n",
      "HMC 200: accept rate of 99.5\n",
      "HMC 400: accept rate of 99.25\n",
      "HMC 600: accept rate of 99.33333333333333\n",
      "HMC 800: accept rate of 99.5\n",
      "HMC 1000: accept rate of 99.3\n",
      "HMC 1200: accept rate of 99.41666666666667\n",
      "HMC 1400: accept rate of 99.35714285714286\n",
      "HMC 1600: accept rate of 99.375\n",
      "HMC 1800: accept rate of 99.27777777777777\n",
      "HMC 2000: accept rate of 99.3\n",
      "HMC 2200: accept rate of 99.27272727272727\n",
      "HMC 2400: accept rate of 99.33333333333333\n",
      "HMC 2600: accept rate of 99.38461538461539\n",
      "HMC 2800: accept rate of 99.32142857142857\n",
      "HMC 3000: accept rate of 99.3\n",
      "HMC 3200: accept rate of 99.3125\n",
      "HMC 3400: accept rate of 99.3529411764706\n"
     ]
    }
   ],
   "source": [
    "my_inference.train(X=x, y=y, warm_start=False, position_init=position_init)#,diagnostic_mode=False)#, step_size=1e-2, leapfrog_steps=1000,\n",
    "              #total_samples=10000, burn_in=0.1, thinning_factor=2, check_point=200)"
   ]
  },
  {
   "cell_type": "code",
   "execution_count": null,
   "metadata": {},
   "outputs": [],
   "source": [
    "\n",
    "# get posterior z\n",
    "n_sample = 10\n",
    "post_sample = my_inference.get_posterior(n_samples=n_sample).reshape(-1, 2)\n",
    "x_test = np.linspace(-8, 8, 100)\n",
    "y_test = np.reshape(\n",
    "    [my_nn.forward(P=P, w_hat=w, z=post_sample[i], X=x_test.reshape(1, -1)) for i in range(n_sample)],\n",
    "    (n_sample, -1)) \\\n",
    "         + np.random.normal(0, my_nn.Sigma_Y_det ** 0.5, size=(n_sample, len(x_test)))\n",
    "# because here Sigma_Y is 1-D, so determinants=its value"
   ]
  },
  {
   "cell_type": "code",
   "execution_count": null,
   "metadata": {},
   "outputs": [],
   "source": [
    "# plot\n",
    "plt.figure(figsize=(15, 5))\n",
    "plt.subplot(1, 2, 1)\n",
    "plt.grid()\n",
    "plt.title('Posterior Predictive of Bayesian NN |HMC')\n",
    "# plt.ylim(-15, 15)\n",
    "for i in range(n_sample):\n",
    "    plt.plot(x_test, y_test[i], color='red', alpha=max(1 / n_sample, 0.1))\n",
    "plt.scatter(x, y, color='black', label='data')\n",
    "plt.legend()\n",
    "plt.subplot(1, 2, 2)\n",
    "plt.scatter(x, y, color='black')\n",
    "plt.plot(x_test, y_test.mean(0), color='red', label='posterior predictive mean')\n",
    "plt.fill_between(x_test, np.percentile(y_test, 0.25, axis=0), np.percentile(y_test, 97.5, axis=0),\n",
    "                 color='red', label='95% CI', alpha=0.5)\n",
    "plt.legend(loc='best')\n",
    "plt.title('Posterior Predictive of Bayesian NN with 95% CI|HMC')\n",
    "plt.grid()\n",
    "# plt.ylim(-15, 15)\n",
    "plt.show()"
   ]
  },
  {
   "cell_type": "code",
   "execution_count": null,
   "metadata": {},
   "outputs": [],
   "source": []
  }
 ],
 "metadata": {
  "kernelspec": {
   "display_name": "Python 3",
   "language": "python",
   "name": "python3"
  },
  "language_info": {
   "codemirror_mode": {
    "name": "ipython",
    "version": 3
   },
   "file_extension": ".py",
   "mimetype": "text/x-python",
   "name": "python",
   "nbconvert_exporter": "python",
   "pygments_lexer": "ipython3",
   "version": "3.7.3"
  }
 },
 "nbformat": 4,
 "nbformat_minor": 2
}
