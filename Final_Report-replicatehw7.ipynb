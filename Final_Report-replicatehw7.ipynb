{
 "cells": [
  {
   "cell_type": "markdown",
   "metadata": {},
   "source": [
    "# Name\n",
    "\n",
    "Yuting Kou, Yizhou Wang, Yiming Xu, Ziyi Zhou\n",
    "\n",
    "## Content\n",
    "\n",
    "## Method"
   ]
  },
  {
   "cell_type": "markdown",
   "metadata": {},
   "source": [
    "## Toy Example"
   ]
  },
  {
   "cell_type": "code",
   "execution_count": 1,
   "metadata": {},
   "outputs": [],
   "source": [
    "import matplotlib.pyplot as plt\n",
    "from autograd import numpy as np\n",
    "\n",
    "from src.Inference import Inference\n",
    "from src.Subspace import Subspace\n",
    "from src.model import Model\n",
    "from src.util import hidecode\n",
    "# hidecode()            % --------- remember to remove comments after finishing all the code. This function can simplify the code"
   ]
  },
  {
   "cell_type": "code",
   "execution_count": 2,
   "metadata": {
    "scrolled": true
   },
   "outputs": [
    {
     "name": "stdout",
     "output_type": "stream",
     "text": [
      "Iteration 0 lower bound 65.1166805377315; gradient mag: 164.73210946091575\n",
      "Iteration 100 lower bound 52.86436046756695; gradient mag: 56.95458639088457\n",
      "Iteration 200 lower bound 49.42633385370295; gradient mag: 28.31627548203755\n",
      "Iteration 300 lower bound 47.73326189562314; gradient mag: 18.311751879565836\n",
      "Iteration 400 lower bound 46.647745693540806; gradient mag: 13.47755254054697\n",
      "Iteration 500 lower bound 45.88691542805831; gradient mag: 10.503599898310592\n",
      "Iteration 600 lower bound 45.25067576634; gradient mag: 8.654932255566825\n",
      "Iteration 700 lower bound 30.562858257343013; gradient mag: 24.192575322800902\n",
      "Iteration 800 lower bound 26.97792508592485; gradient mag: 20.354176994190937\n",
      "Iteration 900 lower bound 24.278363637665734; gradient mag: 18.77912591689822\n",
      "Iteration 1000 lower bound 22.029867169404948; gradient mag: 17.427416991221943\n",
      "Iteration 1100 lower bound 20.10610040886032; gradient mag: 16.21045518866593\n",
      "Iteration 1200 lower bound 18.434367471681025; gradient mag: 15.092044558814077\n",
      "Iteration 1300 lower bound 16.967826824623163; gradient mag: 14.051620576729908\n",
      "Iteration 1400 lower bound 15.673763205688546; gradient mag: 13.076506887891881\n",
      "Iteration 1500 lower bound 14.527850196693981; gradient mag: 12.158583034329935\n",
      "Iteration 1600 lower bound 13.511041180892443; gradient mag: 11.292691333772902\n",
      "Iteration 1700 lower bound 12.60773762799294; gradient mag: 10.475901826346682\n",
      "Iteration 1800 lower bound 11.804614404003857; gradient mag: 9.707342852428733\n",
      "Iteration 1900 lower bound 11.08977327305976; gradient mag: 8.988599356616403\n",
      "Iteration 2000 lower bound 10.452003162028152; gradient mag: 8.32495407522392\n",
      "Iteration 2100 lower bound 9.87992684520345; gradient mag: 7.728107510229668\n",
      "Iteration 2200 lower bound 9.360728932888753; gradient mag: 7.221146412450927\n",
      "Iteration 2300 lower bound 8.878118698993092; gradient mag: 6.843182251011429\n",
      "Iteration 2400 lower bound 8.410371873546007; gradient mag: 6.627021939587407\n",
      "Iteration 2500 lower bound 7.937214402172414; gradient mag: 6.461888287390538\n",
      "Iteration 2600 lower bound 7.471807925987624; gradient mag: 6.054967192028709\n",
      "Iteration 2700 lower bound 7.048560738747637; gradient mag: 5.623261826592471\n",
      "Iteration 2800 lower bound 6.657649714610486; gradient mag: 5.301596015489049\n",
      "Iteration 2900 lower bound 6.286937924356821; gradient mag: 5.005817266509643\n",
      "Iteration 3000 lower bound 5.932348941430826; gradient mag: 4.738230196194087\n",
      "Iteration 3100 lower bound 5.591133620620948; gradient mag: 4.496972816298515\n",
      "Iteration 3200 lower bound 5.26127545540811; gradient mag: 4.278187646372165\n",
      "Iteration 3300 lower bound 4.94145795934148; gradient mag: 4.078179065269133\n",
      "Iteration 3400 lower bound 4.6310060561160205; gradient mag: 3.893374295011214\n",
      "Iteration 3500 lower bound 4.329797769584354; gradient mag: 3.720413244585381\n",
      "Iteration 3600 lower bound 4.038157311705764; gradient mag: 3.5562692067094743\n",
      "Iteration 3700 lower bound 3.756740063917853; gradient mag: 3.3983369913380335\n",
      "Iteration 3800 lower bound 3.4864181903710874; gradient mag: 3.244478137088563\n",
      "Iteration 3900 lower bound 3.228173818091557; gradient mag: 3.0930278431838505\n",
      "Iteration 4000 lower bound 2.9830049840819997; gradient mag: 2.9427729212293756\n",
      "Iteration 4100 lower bound 2.7518476624500345; gradient mag: 2.7929113696219305\n",
      "Iteration 4200 lower bound 2.535515098891551; gradient mag: 2.6430034941530747\n",
      "Iteration 4300 lower bound 2.334653699118807; gradient mag: 2.492922187032353\n",
      "Iteration 4400 lower bound 2.1497133142884643; gradient mag: 2.3428066637339153\n",
      "Iteration 4500 lower bound 1.9809292604652153; gradient mag: 2.193020647459891\n",
      "Iteration 4600 lower bound 1.8283137632422373; gradient mag: 2.0441136627500596\n",
      "Iteration 4700 lower bound 1.691655364964971; gradient mag: 1.8967832576590373\n",
      "Iteration 4800 lower bound 1.570525681259662; gradient mag: 1.7518364695730453\n",
      "Iteration 4900 lower bound 1.4642933738374684; gradient mag: 1.610150058676236\n",
      "Iteration 5000 lower bound 1.3721451943344039; gradient mag: 1.472630238301937\n",
      "Iteration 5100 lower bound 1.2931135553235429; gradient mag: 1.3401733579691129\n",
      "Iteration 5200 lower bound 1.2261095200674321; gradient mag: 1.2136291284745895\n",
      "Iteration 5300 lower bound 1.169959583506018; gradient mag: 1.0937676769971296\n",
      "Iteration 5400 lower bound 1.1234442741889092; gradient mag: 0.9812512421063565\n",
      "Iteration 5500 lower bound 1.0853364809877015; gradient mag: 0.876610884661654\n",
      "Iteration 5600 lower bound 1.0544374790480326; gradient mag: 0.7802283270250252\n",
      "Iteration 5700 lower bound 1.0296088526691245; gradient mag: 0.6923229786568383\n",
      "Iteration 5800 lower bound 1.0097988475753612; gradient mag: 0.612944344031961\n",
      "Iteration 5900 lower bound 0.9940621024101449; gradient mag: 0.541970288019657\n",
      "Iteration 6000 lower bound 0.9815721882281818; gradient mag: 0.47911196520139143\n",
      "Iteration 6100 lower bound 0.9716269021332471; gradient mag: 0.4239264486834007\n",
      "Iteration 6200 lower bound 0.9636467829301204; gradient mag: 0.37583798410455793\n",
      "Iteration 6300 lower bound 0.9571677953012221; gradient mag: 0.33416807975986823\n",
      "Iteration 6400 lower bound 0.9518295094699303; gradient mag: 0.2981732006258851\n",
      "Iteration 6500 lower bound 0.9473603349308851; gradient mag: 0.26708691708356797\n",
      "Iteration 6600 lower bound 0.9435614176657392; gradient mag: 0.24016168509830355\n",
      "Iteration 6700 lower bound 0.9402906778872775; gradient mag: 0.21670489181783392\n",
      "Iteration 6800 lower bound 0.9374481798665438; gradient mag: 0.19610486560455742\n",
      "Iteration 6900 lower bound 0.9349636432157276; gradient mag: 0.1778448804877396\n",
      "Iteration 7000 lower bound 0.9327864954502704; gradient mag: 0.1615058022817051\n",
      "Iteration 7100 lower bound 0.9308784948544606; gradient mag: 0.14675994060126288\n",
      "Iteration 7200 lower bound 0.9292086696688902; gradient mag: 0.13335942825221697\n",
      "Iteration 7300 lower bound 0.9277501483760673; gradient mag: 0.12112219021538849\n",
      "Iteration 7400 lower bound 0.9264783945011947; gradient mag: 0.10991775212347499\n",
      "Iteration 7500 lower bound 0.9253703857236365; gradient mag: 0.09965422926949838\n",
      "Iteration 7600 lower bound 0.9244043582903454; gradient mag: 0.09026710811190437\n",
      "Iteration 7700 lower bound 0.9235598402274618; gradient mag: 0.0817099676818223\n",
      "Iteration 7800 lower bound 0.9228177944604716; gradient mag: 0.07394705094395684\n",
      "Iteration 7900 lower bound 0.9221607705699166; gradient mag: 0.06694750473542582\n",
      "Iteration 8000 lower bound 0.9215730170694089; gradient mag: 0.060681088408869835\n",
      "Iteration 8100 lower bound 0.9210405376965228; gradient mag: 0.05511516181682015\n",
      "Iteration 8200 lower bound 0.9205510914285545; gradient mag: 0.05021278525559154\n",
      "Iteration 8300 lower bound 0.9200941429847445; gradient mag: 0.045931792000568177\n",
      "Iteration 8400 lower bound 0.9196607730359081; gradient mag: 0.042224720663675525\n",
      "Iteration 8500 lower bound 0.9192435578672375; gradient mag: 0.03903950499051115\n",
      "Iteration 8600 lower bound 0.918836428029572; gradient mag: 0.036320797599771124\n",
      "Iteration 8700 lower bound 0.9184345149510617; gradient mag: 0.034011750228641766\n",
      "Iteration 8800 lower bound 0.9180339936265376; gradient mag: 0.03205600850869484\n",
      "Iteration 8900 lower bound 0.9176319283644762; gradient mag: 0.030399642611948625\n",
      "Iteration 9000 lower bound 0.9172261272029141; gradient mag: 0.028992757539280913\n",
      "Iteration 9100 lower bound 0.9168150091066902; gradient mag: 0.027790610532137577\n",
      "Iteration 9200 lower bound 0.9163974865521554; gradient mag: 0.0267541791359843\n",
      "Iteration 9300 lower bound 0.915972864709621; gradient mag: 0.025850230854823516\n",
      "Iteration 9400 lower bound 0.9155407572413; gradient mag: 0.02505101425905586\n",
      "Iteration 9500 lower bound 0.9151010178007641; gradient mag: 0.024333713991394352\n",
      "Iteration 9600 lower bound 0.9146536856706989; gradient mag: 0.023679798496554515\n",
      "Iteration 9700 lower bound 0.9141989435974152; gradient mag: 0.023074356669421356\n",
      "Iteration 9800 lower bound 0.9137370857384676; gradient mag: 0.02250548324332564\n",
      "Iteration 9900 lower bound 0.9132684936832576; gradient mag: 0.02196374194212867\n",
      "Iteration 10000 lower bound 0.9127936186808497; gradient mag: 0.02144171378070933\n",
      "Iteration 10100 lower bound 0.9123129684612439; gradient mag: 0.020933625186371697\n",
      "Iteration 10200 lower bound 0.9118270973211791; gradient mag: 0.02043504479474857\n"
     ]
    },
    {
     "name": "stdout",
     "output_type": "stream",
     "text": [
      "Iteration 10300 lower bound 0.9113365984289717; gradient mag: 0.019942636441000017\n",
      "Iteration 10400 lower bound 0.9108420975621968; gradient mag: 0.019453956960669042\n",
      "Iteration 10500 lower bound 0.9103442477143853; gradient mag: 0.018967289476099106\n",
      "Iteration 10600 lower bound 0.9098453686388537; gradient mag: 0.09073142806753468\n",
      "Iteration 10700 lower bound 0.9093412782304128; gradient mag: 0.01854600036595005\n",
      "Iteration 10800 lower bound 0.908837544686079; gradient mag: 0.017507050776570037\n",
      "Iteration 10900 lower bound 0.9083332514034662; gradient mag: 0.017022531463139826\n",
      "Iteration 11000 lower bound 0.9078291134536985; gradient mag: 0.0165376599989881\n",
      "Iteration 11100 lower bound 0.9073258495360198; gradient mag: 0.01605324547649788\n",
      "Iteration 11200 lower bound 0.9068265521443472; gradient mag: 0.10769186235958267\n",
      "Iteration 11300 lower bound 0.9063248836791351; gradient mag: 0.01509560298217003\n",
      "Iteration 11400 lower bound 0.9058285479723788; gradient mag: 0.014606691287302185\n",
      "Iteration 11500 lower bound 0.9053358745029515; gradient mag: 0.014131394813080874\n",
      "Iteration 11600 lower bound 0.9048475252361317; gradient mag: 0.013659707732872154\n",
      "Iteration 11700 lower bound 0.9043877971255481; gradient mag: 0.33821070347065035\n",
      "Iteration 11800 lower bound 0.9038864357550005; gradient mag: 0.012725158063286557\n",
      "Iteration 11900 lower bound 0.9034148988850721; gradient mag: 0.01227208216048425\n",
      "Iteration 12000 lower bound 0.9029501284342425; gradient mag: 0.011822747681457264\n",
      "Iteration 12100 lower bound 0.9024926908085515; gradient mag: 0.011380076165272774\n",
      "Iteration 12200 lower bound 0.9021539212668711; gradient mag: 0.7354539652237033\n",
      "Iteration 12300 lower bound 0.9016021059750392; gradient mag: 0.01066454740096156\n",
      "Iteration 12400 lower bound 0.9011700223928183; gradient mag: 0.010093475488717925\n",
      "Iteration 12500 lower bound 0.9007474391098211; gradient mag: 0.009680836373422565\n",
      "Iteration 12600 lower bound 0.9003349085852338; gradient mag: 0.00927522140242136\n",
      "Iteration 12700 lower bound 0.8999330012051847; gradient mag: 0.00887712430024602\n",
      "Iteration 12800 lower bound 0.899553834074201; gradient mag: 0.014292022879411058\n",
      "Iteration 12900 lower bound 0.8991921412630526; gradient mag: 0.008247595288820702\n",
      "Iteration 13000 lower bound 0.8988402733956693; gradient mag: 0.007898896031703781\n",
      "Iteration 13100 lower bound 0.8984990293297831; gradient mag: 0.007547978227528485\n",
      "Iteration 13200 lower bound 0.8981846269089491; gradient mag: 0.13629113443979637\n",
      "Iteration 13300 lower bound 0.8978791302046676; gradient mag: 0.007085531931440683\n",
      "Iteration 13400 lower bound 0.8975881717291097; gradient mag: 0.03359708336493355\n",
      "Iteration 13500 lower bound 0.897315765554162; gradient mag: 0.1870208138872747\n",
      "Iteration 13600 lower bound 0.8970520978274372; gradient mag: 0.1111529978004825\n",
      "Iteration 13700 lower bound 0.8968054403442759; gradient mag: 0.10661940521818582\n",
      "Iteration 13800 lower bound 0.8965737254328391; gradient mag: 0.00544630001592114\n",
      "Iteration 13900 lower bound 0.8963629021012924; gradient mag: 0.017163494434415245\n",
      "Iteration 14000 lower bound 0.8961670895477108; gradient mag: 0.004977979874871247\n",
      "Iteration 14100 lower bound 0.8959871460713187; gradient mag: 0.06962573319954383\n",
      "Iteration 14200 lower bound 0.8958222433291216; gradient mag: 0.004467865132068627\n",
      "Iteration 14300 lower bound 0.8956753060295729; gradient mag: 0.12117811808695571\n",
      "Iteration 14400 lower bound 0.8955403769732624; gradient mag: 0.03625651328019822\n",
      "Iteration 14500 lower bound 0.8954202661832426; gradient mag: 0.0645845799242279\n",
      "Iteration 14600 lower bound 0.895314011554527; gradient mag: 0.05829878227138329\n",
      "Iteration 14700 lower bound 0.895220893543428; gradient mag: 0.0869324427928049\n",
      "Iteration 14800 lower bound 0.8951385083888842; gradient mag: 0.00813779005069243\n",
      "Iteration 14900 lower bound 0.8950680329604952; gradient mag: 0.022087175355280247\n"
     ]
    }
   ],
   "source": [
    "# data = np.load(r'.\\example\\data.npy')\n",
    "data = np.genfromtxt(r'.\\example\\hw7_data.csv', delimiter=',')[1:]\n",
    "x, y = data[:, 0], data[:, 1]\n",
    "\n",
    "alpha = 1\n",
    "c = 0\n",
    "h = lambda x: np.exp(-alpha * (x - c)**2)\n",
    "\n",
    "###neural network model design choices\n",
    "width = 5\n",
    "hidden_layers = 1\n",
    "input_dim = 1\n",
    "output_dim = 1\n",
    "\n",
    "architecture = {'width': width,\n",
    "               'hidden_layers': hidden_layers,\n",
    "               'input_dim': input_dim,\n",
    "               'output_dim': output_dim,\n",
    "               'activation_fn_type': 'rbf',\n",
    "               'activation_fn_params': 'c=0, alpha=1',\n",
    "               'activation_fn': h}\n",
    "\n",
    "# set random state to make the experiments replicable\n",
    "rand_state = 0\n",
    "random = np.random.RandomState(rand_state)\n",
    "\n",
    "# create a model and train the model\n",
    "my_nn = Model.create(submodel_type=\"Feedforward\", architecture=architecture)\n",
    "\n",
    "# use MSE result as params_init\n",
    "params = {'step_size':1e-3, \n",
    "          'max_iteration':15000, \n",
    "          'random_restarts':1}\n",
    "\n",
    "# fit my neural network to minimize MSE on the given data\n",
    "my_nn.fit(x_train=x.reshape((1, -1)), y_train=y.reshape((1, -1)), params=params)"
   ]
  },
  {
   "cell_type": "code",
   "execution_count": 3,
   "metadata": {},
   "outputs": [
    {
     "data": {
      "text/plain": [
       "Text(0, 0.5, 'Y')"
      ]
     },
     "execution_count": 3,
     "metadata": {},
     "output_type": "execute_result"
    },
    {
     "data": {
      "image/png": "[encoded data removed]",
      "text/plain": [
       "<Figure size 432x288 with 1 Axes>"
      ]
     },
     "metadata": {
      "needs_background": "light"
     },
     "output_type": "display_data"
    }
   ],
   "source": [
    "x_test = np.linspace(-10, 10, 1000).reshape(1,-1)\n",
    "y_test = my_nn.forward(x_test, use_subweights = False, weights = my_nn.weights)[0]\n",
    "plt.scatter(x, y, alpha = 0.3)\n",
    "plt.plot(x_test[0], y_test[0], color = 'red')\n",
    "plt.xlabel('X')\n",
    "plt.ylabel('Y')\n"
   ]
  },
  {
   "cell_type": "code",
   "execution_count": 4,
   "metadata": {},
   "outputs": [],
   "source": [
    "my_nn = Model.create(submodel_type=\"Feedforward\", architecture=architecture,Sigma_Y=np.array([[2]]))\n",
    "my_subspace = Subspace.create(subspace_type=\"random\", model=my_nn, n_subspace=2)\n",
    "my_subspace.collect_vector(X=x, y=y)\n",
    "P, w = my_subspace.get_space()"
   ]
  },
  {
   "cell_type": "code",
   "execution_count": 5,
   "metadata": {},
   "outputs": [],
   "source": [
    "hmc_tune_params={'step_size':0.01,\n",
    "                                'leapfrog_steps': 10,\n",
    "                                'total_samples': 200000,\n",
    "                                'burn_in': 0.2,\n",
    "                                'warm_start': False,\n",
    "                                'thinning_factor': 2,\n",
    "                                'mom_std': 1,\n",
    "                                'diagnostic_mode': False}"
   ]
  },
  {
   "cell_type": "code",
   "execution_count": 6,
   "metadata": {},
   "outputs": [],
   "source": [
    "my_inference = Inference.create(inference_type=\"HMC\", model=my_nn, P=np.eye(P.shape[0]), w_hat=np.zeros_like(w),  tune_params=hmc_tune_params,\n",
    "                               Sigma_Z=5)"
   ]
  },
  {
   "cell_type": "code",
   "execution_count": 7,
   "metadata": {
    "scrolled": true
   },
   "outputs": [],
   "source": [
    "# get initial weights (in subspace dimension!!)\n",
    "position_init = my_nn.get_z_from_W(weights=my_nn.weights, P=my_inference.P, w_hat=my_inference.w_hat)"
   ]
  },
  {
   "cell_type": "code",
   "execution_count": 8,
   "metadata": {},
   "outputs": [],
   "source": [
    "import time"
   ]
  },
  {
   "cell_type": "code",
   "execution_count": null,
   "metadata": {
    "scrolled": true
   },
   "outputs": [
    {
     "name": "stdout",
     "output_type": "stream",
     "text": [
      "HMC 200: accept rate of 100.0 with step size 0.01\n",
      "HMC 400: accept rate of 100.0 with step size 0.0105\n",
      "HMC 600: accept rate of 100.0 with step size 0.011025000000000002\n",
      "HMC 800: accept rate of 99.875 with step size 0.011576250000000003\n",
      "HMC 1000: accept rate of 99.9 with step size 0.012155062500000004\n",
      "HMC 1200: accept rate of 99.83333333333333 with step size 0.012762815625000005\n",
      "HMC 1400: accept rate of 99.85714285714286 with step size 0.013400956406250006\n",
      "HMC 1600: accept rate of 99.875 with step size 0.014071004226562506\n",
      "HMC 1800: accept rate of 99.8888888888889 with step size 0.014774554437890632\n",
      "HMC 2000: accept rate of 99.8 with step size 0.015513282159785164\n",
      "HMC 2200: accept rate of 99.72727272727273 with step size 0.016288946267774423\n",
      "HMC 2400: accept rate of 99.66666666666667 with step size 0.017103393581163143\n",
      "HMC 2600: accept rate of 99.57692307692308 with step size 0.0179585632602213\n",
      "HMC 2800: accept rate of 99.57142857142857 with step size 0.018856491423232365\n",
      "HMC 3000: accept rate of 99.46666666666667 with step size 0.019799315994393985\n",
      "HMC 3200: accept rate of 99.3125 with step size 0.020789281794113684\n",
      "HMC 3400: accept rate of 99.20588235294117 with step size 0.02182874588381937\n",
      "HMC 3600: accept rate of 99.13888888888889 with step size 0.02292018317801034\n",
      "HMC 3800: accept rate of 99.07894736842105 with step size 0.024066192336910857\n",
      "HMC 4000: accept rate of 98.97500000000001 with step size 0.0252695019537564\n",
      "HMC 4200: accept rate of 98.90476190476191 with step size 0.02653297705144422\n",
      "HMC 4400: accept rate of 98.79545454545455 with step size 0.02785962590401643\n",
      "HMC 4600: accept rate of 98.67391304347825 with step size 0.029252607199217254\n",
      "HMC 4800: accept rate of 98.58333333333333 with step size 0.030715237559178116\n",
      "HMC 5000: accept rate of 98.44000000000001 with step size 0.03225099943713702\n",
      "HMC 5200: accept rate of 98.23076923076923 with step size 0.03386354940899387\n",
      "HMC 5400: accept rate of 98.01851851851852 with step size 0.03555672687944357\n",
      "HMC 5600: accept rate of 97.80357142857142 with step size 0.03733456322341575\n",
      "HMC 5800: accept rate of 97.48275862068965 with step size 0.03920129138458654\n",
      "HMC 6000: accept rate of 97.39999999999999 with step size 0.04116135595381587\n",
      "HMC 6200: accept rate of 97.2741935483871 with step size 0.04321942375150666\n",
      "HMC 6400: accept rate of 97.015625 with step size 0.045380394939082\n",
      "HMC 6600: accept rate of 96.60606060606061 with step size 0.0476494146860361\n",
      "HMC 6800: accept rate of 96.26470588235294 with step size 0.0500318854203379\n",
      "HMC 7000: accept rate of 95.88571428571429 with step size 0.0525334796913548\n",
      "HMC 7200: accept rate of 94.83333333333334 with step size 0.055160153675922544\n",
      "HMC 7400: accept rate of 93.47297297297297 with step size 0.057918161359718674\n",
      "HMC 7600: accept rate of 92.60526315789474 with step size 0.06081406942770461\n",
      "HMC 7800: accept rate of 91.71794871794872 with step size 0.06385477289908985\n",
      "HMC 8000: accept rate of 91.16250000000001 with step size 0.06704751154404434\n",
      "HMC 8200: accept rate of 90.0609756097561 with step size 0.07039988712124656\n",
      "HMC 8400: accept rate of 88.90476190476191 with step size 0.0739198814773089\n",
      "HMC 8600: accept rate of 87.82558139534883 with step size 0.07761587555117434\n",
      "HMC 8800: accept rate of 86.98863636363636 with step size 0.08149666932873306\n",
      "HMC 9000: accept rate of 85.97777777777777 with step size 0.08557150279516972\n",
      "HMC 9200: accept rate of 84.10869565217392 with step size 0.0898500779349282\n",
      "HMC 9400: accept rate of 82.31914893617022 with step size 0.09434258183167461\n",
      "HMC 9600: accept rate of 80.80208333333333 with step size 0.09905971092325835\n",
      "HMC 9800: accept rate of 79.29591836734694 with step size 0.10401269646942128\n",
      "HMC 10000: accept rate of 77.92 with step size 0.10401269646942128\n",
      "HMC 10200: accept rate of 76.50980392156863 with step size 0.10401269646942128\n",
      "HMC 10400: accept rate of 75.3173076923077 with step size 0.10401269646942128\n",
      "HMC 10600: accept rate of 74.23584905660377 with step size 0.10401269646942128\n",
      "HMC 10800: accept rate of 73.13888888888889 with step size 0.10401269646942128\n",
      "HMC 11000: accept rate of 72.1 with step size 0.10401269646942128\n",
      "HMC 11200: accept rate of 71.08035714285714 with step size 0.10401269646942128\n",
      "HMC 11400: accept rate of 70.07894736842105 with step size 0.10401269646942128\n",
      "HMC 11600: accept rate of 68.96551724137932 with step size 0.10401269646942128\n",
      "HMC 11800: accept rate of 67.8220338983051 with step size 0.10401269646942128\n",
      "HMC 12000: accept rate of 66.80833333333334 with step size 0.10401269646942128\n",
      "HMC 12200: accept rate of 65.81967213114754 with step size 0.10401269646942128\n",
      "HMC 12400: accept rate of 65.05645161290322 with step size 0.10401269646942128\n",
      "HMC 12600: accept rate of 64.26984126984127 with step size 0.10401269646942128\n",
      "HMC 12800: accept rate of 63.515625 with step size 0.10401269646942128\n",
      "HMC 13000: accept rate of 62.76923076923077 with step size 0.10401269646942128\n",
      "HMC 13200: accept rate of 61.93181818181818 with step size 0.10401269646942128\n",
      "HMC 13400: accept rate of 61.253731343283576 with step size 0.10401269646942128\n",
      "HMC 13600: accept rate of 60.47794117647059 with step size 0.10401269646942128\n",
      "HMC 13800: accept rate of 59.88405797101449 with step size 0.10401269646942128\n",
      "HMC 14000: accept rate of 59.285714285714285 with step size 0.10401269646942128\n",
      "HMC 14200: accept rate of 58.48591549295775 with step size 0.10401269646942128\n",
      "HMC 14400: accept rate of 57.81944444444444 with step size 0.10401269646942128\n",
      "HMC 14600: accept rate of 57.102739726027394 with step size 0.10401269646942128\n",
      "HMC 14800: accept rate of 56.439189189189186 with step size 0.10401269646942128\n",
      "HMC 15000: accept rate of 55.733333333333334 with step size 0.10401269646942128\n",
      "HMC 15200: accept rate of 55.11184210526315 with step size 0.10401269646942128\n",
      "HMC 15400: accept rate of 54.714285714285715 with step size 0.10401269646942128\n"
     ]
    }
   ],
   "source": [
    "begin=time.time()\n",
    "my_inference.train(X=x, y=y, warm_start=False, position_init=position_init)\n",
    "end=time.time()\n",
    "    "
   ]
  },
  {
   "cell_type": "code",
   "execution_count": null,
   "metadata": {},
   "outputs": [],
   "source": [
    "# get posterior z\n",
    "n_sample = 10\n",
    "post_sample = my_inference.get_posterior(n_samples=n_sample).reshape(-1, 2)\n",
    "x_test = np.linspace(-8, 8, 100)\n",
    "y_test = np.reshape(\n",
    "    [my_nn.forward(P=P, w_hat=w, z=post_sample[i], X=x_test.reshape(1, -1)) for i in range(n_sample)],\n",
    "    (n_sample, -1)) \\\n",
    "         + np.random.normal(0, my_nn.Sigma_Y_det ** 0.5, size=(n_sample, len(x_test)))\n",
    "# because here Sigma_Y is 1-D, so determinants=its value"
   ]
  },
  {
   "cell_type": "code",
   "execution_count": null,
   "metadata": {},
   "outputs": [],
   "source": [
    "# plot\n",
    "plt.figure(figsize=(15, 5))\n",
    "plt.subplot(1, 2, 1)\n",
    "plt.grid()\n",
    "plt.title('Posterior Predictive of Bayesian NN |HMC')\n",
    "# plt.ylim(-15, 15)\n",
    "for i in range(n_sample):\n",
    "    plt.plot(x_test, y_test[i], color='red', alpha=max(1 / n_sample, 0.1))\n",
    "plt.scatter(x, y, color='black', label='data')\n",
    "plt.legend()\n",
    "plt.subplot(1, 2, 2)\n",
    "plt.scatter(x, y, color='black')\n",
    "plt.plot(x_test, y_test.mean(0), color='red', label='posterior predictive mean')\n",
    "plt.fill_between(x_test, np.percentile(y_test, 0.25, axis=0), np.percentile(y_test, 97.5, axis=0),\n",
    "                 color='red', label='95% CI', alpha=0.5)\n",
    "plt.legend(loc='best')\n",
    "plt.title('Posterior Predictive of Bayesian NN with 95% CI|HMC')\n",
    "plt.grid()\n",
    "# plt.ylim(-15, 15)\n",
    "plt.show()"
   ]
  },
  {
   "cell_type": "code",
   "execution_count": null,
   "metadata": {},
   "outputs": [],
   "source": []
  }
 ],
 "metadata": {
  "kernelspec": {
   "display_name": "Python 3",
   "language": "python",
   "name": "python3"
  },
  "language_info": {
   "codemirror_mode": {
    "name": "ipython",
    "version": 3
   },
   "file_extension": ".py",
   "mimetype": "text/x-python",
   "name": "python",
   "nbconvert_exporter": "python",
   "pygments_lexer": "ipython3",
   "version": "3.7.3"
  }
 },
 "nbformat": 4,
 "nbformat_minor": 2
}
