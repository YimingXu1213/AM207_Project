{
 "cells": [
  {
   "cell_type": "markdown",
   "metadata": {},
   "source": [
    "# Name\n",
    "\n",
    "Yuting Kou, Yizhou Wang, Yiming Xu, Ziyi Zhou\n",
    "\n",
    "## Content\n",
    "\n",
    "## Method"
   ]
  },
  {
   "cell_type": "markdown",
   "metadata": {},
   "source": [
    "## Toy Example"
   ]
  },
  {
   "cell_type": "code",
   "execution_count": 1,
   "metadata": {},
   "outputs": [],
   "source": [
    "import matplotlib.pyplot as plt\n",
    "from autograd import numpy as np\n",
    "\n",
    "from src.Inference import Inference\n",
    "from src.Subspace import Subspace\n",
    "from src.model import Model\n",
    "from src.util import hidecode\n",
    "# hidecode()            % --------- remember to remove comments after finishing all the code. This function can simplify the code"
   ]
  },
  {
   "cell_type": "code",
   "execution_count": 2,
   "metadata": {},
   "outputs": [],
   "source": [
    "data = np.load(r'.\\example\\data.npy')\n",
    "x, y = data[:, 0], data[:, 1]\n",
    "\n",
    "alpha = 1\n",
    "c = 0\n",
    "h = lambda x: np.exp(-alpha * (x - c) ** 2)\n",
    "\n",
    "###neural network model design choices\n",
    "width = 5\n",
    "hidden_layers = 1\n",
    "input_dim = 1\n",
    "output_dim = 1\n",
    "\n",
    "architecture = {'width': width,\n",
    "                'hidden_layers': hidden_layers,\n",
    "                'input_dim': input_dim,\n",
    "                'output_dim': output_dim,\n",
    "                'activation_fn_type': 'rbf',\n",
    "                'activation_fn_params': 'c=0, alpha=1',\n",
    "                'activation_fn': h}\n",
    "# set random state to make the experiments replicable\n",
    "rand_state = 127\n",
    "random = np.random.RandomState(rand_state)"
   ]
  },
  {
   "cell_type": "code",
   "execution_count": 4,
   "metadata": {},
   "outputs": [],
   "source": [
    "my_nn = Model.create(submodel_type=\"Feedforward\", architecture=architecture)\n",
    "my_subspace = Subspace.create(subspace_type=\"random\", model=my_nn, n_subspace=2)\n",
    "my_subspace.collect_vector(X=x, y=y)\n",
    "P, w = my_subspace.get_space()\n",
    "# my_inference = Inference.create(inference_type=\"HMC\", model=my_nn, P=P, w_hat=w)\n",
    "my_inference = Inference.create(inference_type=\"BBB\", model=my_nn, P=P, w_hat=w)"
   ]
  },
  {
   "cell_type": "code",
   "execution_count": 4,
   "metadata": {},
   "outputs": [],
   "source": [
    "params = {'step_size': 1e-3,\n",
    "              'max_iteration': 5000,\n",
    "              'random_restarts': 1}\n",
    "\n",
    "# fit my neural network to minimize MSE on the given data\n",
    "#my_nn.fit(x_train=x.reshape((1, -1)), y_train=y.reshape((1, -1)), params=params)\n",
    "\n",
    "# get initial weights (in subspace dimension!!)\n",
    "position_init = my_nn.get_z_from_W(weights=my_nn.weights, P=P, w_hat=w)"
   ]
  },
  {
   "cell_type": "code",
   "execution_count": null,
   "metadata": {},
   "outputs": [
    {
     "name": "stdout",
     "output_type": "stream",
     "text": [
      "[0.17640523 0.04001572 0.0978738  0.22408932]\n",
      "Iteration 0 lower bound -107827.94757485563; gradient mag: 59999.36099994443\n"
     ]
    }
   ],
   "source": [
    "\n",
    "my_inference.train(X=x, y=y, warm_start=True, position_init=None)\n",
    "\n",
    "# get posterior z\n",
    "n_sample = 10\n",
    "post_sample = my_inference.get_posterior(n_samples=n_sample).reshape(-1, 2)\n",
    "x_test = np.linspace(-8, 8, 100)\n",
    "y_test = np.reshape(\n",
    "    [my_nn.forward(P=P, w_hat=w, z=post_sample[i], X=x_test.reshape(1, -1)) for i in range(n_sample)],\n",
    "    (n_sample, -1)) \\\n",
    "         + np.random.normal(0, my_nn.Sigma_Y_det ** 0.5, size=(n_sample, len(x_test)))\n",
    "# because here Sigma_Y is 1-D, so determinants=its value"
   ]
  },
  {
   "cell_type": "code",
   "execution_count": null,
   "metadata": {},
   "outputs": [],
   "source": []
  },
  {
   "cell_type": "code",
   "execution_count": null,
   "metadata": {},
   "outputs": [],
   "source": []
  }
 ],
 "metadata": {
  "kernelspec": {
   "display_name": "Python 3",
   "language": "python",
   "name": "python3"
  },
  "language_info": {
   "codemirror_mode": {
    "name": "ipython",
    "version": 3
   },
   "file_extension": ".py",
   "mimetype": "text/x-python",
   "name": "python",
   "nbconvert_exporter": "python",
   "pygments_lexer": "ipython3",
   "version": "3.7.3"
  }
 },
 "nbformat": 4,
 "nbformat_minor": 2
}
